{
 "cells": [
  {
   "cell_type": "markdown",
   "id": "d2f6b87a",
   "metadata": {},
   "source": [
    "---\n",
    "\n",
    "## Content Based Recommenders"
   ]
  },
  {
   "cell_type": "code",
   "execution_count": 56,
   "id": "9b5c3f10",
   "metadata": {},
   "outputs": [],
   "source": [
    "import numpy as np\n",
    "import pandas as pd\n",
    "from datetime import datetime\n",
    "import warnings\n",
    "warnings.filterwarnings('ignore')"
   ]
  },
  {
   "cell_type": "code",
   "execution_count": 2,
   "id": "7be73dc9",
   "metadata": {},
   "outputs": [],
   "source": [
    "movies = pd.read_csv('movies.csv')\n",
    "ratings = pd.read_csv('ratings.csv')"
   ]
  },
  {
   "cell_type": "code",
   "execution_count": 3,
   "id": "85a67df0",
   "metadata": {},
   "outputs": [],
   "source": [
    "select_movies = ratings.movieId.value_counts().head(1000).index.to_list()\n",
    "movies = movies.loc[movies.movieId.isin(select_movies)]\n",
    "ratings = ratings.loc[ratings.movieId.isin(select_movies)]"
   ]
  },
  {
   "cell_type": "code",
   "execution_count": 4,
   "id": "a1e9b5f7",
   "metadata": {},
   "outputs": [
    {
     "data": {
      "text/html": [
       "<div>\n",
       "<style scoped>\n",
       "    .dataframe tbody tr th:only-of-type {\n",
       "        vertical-align: middle;\n",
       "    }\n",
       "\n",
       "    .dataframe tbody tr th {\n",
       "        vertical-align: top;\n",
       "    }\n",
       "\n",
       "    .dataframe thead th {\n",
       "        text-align: right;\n",
       "    }\n",
       "</style>\n",
       "<table border=\"1\" class=\"dataframe\">\n",
       "  <thead>\n",
       "    <tr style=\"text-align: right;\">\n",
       "      <th></th>\n",
       "      <th>movieId</th>\n",
       "      <th>title</th>\n",
       "      <th>genres</th>\n",
       "    </tr>\n",
       "  </thead>\n",
       "  <tbody>\n",
       "    <tr>\n",
       "      <th>0</th>\n",
       "      <td>1</td>\n",
       "      <td>Toy Story (1995)</td>\n",
       "      <td>Adventure|Animation|Children|Comedy|Fantasy</td>\n",
       "    </tr>\n",
       "    <tr>\n",
       "      <th>1</th>\n",
       "      <td>2</td>\n",
       "      <td>Jumanji (1995)</td>\n",
       "      <td>Adventure|Children|Fantasy</td>\n",
       "    </tr>\n",
       "  </tbody>\n",
       "</table>\n",
       "</div>"
      ],
      "text/plain": [
       "   movieId             title                                       genres\n",
       "0        1  Toy Story (1995)  Adventure|Animation|Children|Comedy|Fantasy\n",
       "1        2    Jumanji (1995)                   Adventure|Children|Fantasy"
      ]
     },
     "execution_count": 4,
     "metadata": {},
     "output_type": "execute_result"
    }
   ],
   "source": [
    "movies.head(2)"
   ]
  },
  {
   "cell_type": "code",
   "execution_count": 5,
   "id": "fcd3fbcb",
   "metadata": {},
   "outputs": [
    {
     "data": {
      "text/html": [
       "<div>\n",
       "<style scoped>\n",
       "    .dataframe tbody tr th:only-of-type {\n",
       "        vertical-align: middle;\n",
       "    }\n",
       "\n",
       "    .dataframe tbody tr th {\n",
       "        vertical-align: top;\n",
       "    }\n",
       "\n",
       "    .dataframe thead th {\n",
       "        text-align: right;\n",
       "    }\n",
       "</style>\n",
       "<table border=\"1\" class=\"dataframe\">\n",
       "  <thead>\n",
       "    <tr style=\"text-align: right;\">\n",
       "      <th></th>\n",
       "      <th>userId</th>\n",
       "      <th>movieId</th>\n",
       "      <th>rating</th>\n",
       "      <th>timestamp</th>\n",
       "    </tr>\n",
       "  </thead>\n",
       "  <tbody>\n",
       "    <tr>\n",
       "      <th>0</th>\n",
       "      <td>1</td>\n",
       "      <td>16</td>\n",
       "      <td>4.0</td>\n",
       "      <td>1217897793</td>\n",
       "    </tr>\n",
       "    <tr>\n",
       "      <th>1</th>\n",
       "      <td>1</td>\n",
       "      <td>24</td>\n",
       "      <td>1.5</td>\n",
       "      <td>1217895807</td>\n",
       "    </tr>\n",
       "  </tbody>\n",
       "</table>\n",
       "</div>"
      ],
      "text/plain": [
       "   userId  movieId  rating   timestamp\n",
       "0       1       16     4.0  1217897793\n",
       "1       1       24     1.5  1217895807"
      ]
     },
     "execution_count": 5,
     "metadata": {},
     "output_type": "execute_result"
    }
   ],
   "source": [
    "ratings.head(2)"
   ]
  },
  {
   "cell_type": "code",
   "execution_count": 6,
   "id": "de206564",
   "metadata": {},
   "outputs": [],
   "source": [
    "m = movies.copy()\n",
    "m['genres'] = m['genres'].str.split('|')\n",
    "m = m.explode('genres')\n",
    "m = m.pivot(index='movieId', columns='genres', values='title')\n",
    "m = ~m.isna()\n",
    "m = m.astype(int)"
   ]
  },
  {
   "cell_type": "code",
   "execution_count": 7,
   "id": "f3c030bb",
   "metadata": {},
   "outputs": [],
   "source": [
    "a = m.iloc[0].values\n",
    "b = m.iloc[1].values"
   ]
  },
  {
   "cell_type": "code",
   "execution_count": 8,
   "id": "6571b92f",
   "metadata": {},
   "outputs": [],
   "source": [
    "def hamming_distance(x, y):\n",
    "    return sum(abs(x-y))"
   ]
  },
  {
   "cell_type": "code",
   "execution_count": 9,
   "id": "d3993134",
   "metadata": {},
   "outputs": [
    {
     "data": {
      "text/html": [
       "<div>\n",
       "<style scoped>\n",
       "    .dataframe tbody tr th:only-of-type {\n",
       "        vertical-align: middle;\n",
       "    }\n",
       "\n",
       "    .dataframe tbody tr th {\n",
       "        vertical-align: top;\n",
       "    }\n",
       "\n",
       "    .dataframe thead th {\n",
       "        text-align: right;\n",
       "    }\n",
       "</style>\n",
       "<table border=\"1\" class=\"dataframe\">\n",
       "  <thead>\n",
       "    <tr style=\"text-align: right;\">\n",
       "      <th></th>\n",
       "      <th>query</th>\n",
       "      <th>candidate</th>\n",
       "      <th>distance</th>\n",
       "      <th>query_tittle</th>\n",
       "      <th>candidate_tittle</th>\n",
       "    </tr>\n",
       "  </thead>\n",
       "  <tbody>\n",
       "    <tr>\n",
       "      <th>539460</th>\n",
       "      <td>1</td>\n",
       "      <td>2294</td>\n",
       "      <td>0</td>\n",
       "      <td>Toy Story (1995)</td>\n",
       "      <td>Antz (1998)</td>\n",
       "    </tr>\n",
       "    <tr>\n",
       "      <th>665334</th>\n",
       "      <td>1</td>\n",
       "      <td>3114</td>\n",
       "      <td>0</td>\n",
       "      <td>Toy Story (1995)</td>\n",
       "      <td>Toy Story 2 (1999)</td>\n",
       "    </tr>\n",
       "    <tr>\n",
       "      <th>792207</th>\n",
       "      <td>1</td>\n",
       "      <td>4886</td>\n",
       "      <td>0</td>\n",
       "      <td>Toy Story (1995)</td>\n",
       "      <td>Monsters, Inc. (2001)</td>\n",
       "    </tr>\n",
       "    <tr>\n",
       "      <th>187812</th>\n",
       "      <td>1</td>\n",
       "      <td>673</td>\n",
       "      <td>1</td>\n",
       "      <td>Toy Story (1995)</td>\n",
       "      <td>Space Jam (1996)</td>\n",
       "    </tr>\n",
       "    <tr>\n",
       "      <th>549450</th>\n",
       "      <td>1</td>\n",
       "      <td>2355</td>\n",
       "      <td>1</td>\n",
       "      <td>Toy Story (1995)</td>\n",
       "      <td>Bug's Life, A (1998)</td>\n",
       "    </tr>\n",
       "  </tbody>\n",
       "</table>\n",
       "</div>"
      ],
      "text/plain": [
       "        query  candidate  distance      query_tittle       candidate_tittle\n",
       "539460      1       2294         0  Toy Story (1995)            Antz (1998)\n",
       "665334      1       3114         0  Toy Story (1995)     Toy Story 2 (1999)\n",
       "792207      1       4886         0  Toy Story (1995)  Monsters, Inc. (2001)\n",
       "187812      1        673         1  Toy Story (1995)       Space Jam (1996)\n",
       "549450      1       2355         1  Toy Story (1995)   Bug's Life, A (1998)"
      ]
     },
     "execution_count": 9,
     "metadata": {},
     "output_type": "execute_result"
    }
   ],
   "source": [
    "ranks = []\n",
    "\n",
    "for query in m.index:\n",
    "    for candidate in m.index:\n",
    "        if candidate == query:\n",
    "            continue\n",
    "        ranks.append([query, candidate, hamming_distance(m.loc[query], m.loc[candidate])])\n",
    "        \n",
    "ranks = pd.DataFrame(ranks, columns=['query', 'candidate', 'distance'])\n",
    "ranks = ranks.merge(movies[['movieId', 'title']], left_on='query', right_on='movieId').rename(columns={'title': 'query_tittle'}).drop(columns=['movieId'])\n",
    "ranks = ranks.merge(movies[['movieId', 'title']], left_on='candidate', right_on='movieId').rename(columns={'title': 'candidate_tittle'}).drop(columns=['movieId'])\n",
    "ranks = ranks.sort_values(by=['query', 'distance'])\n",
    "ranks.head()"
   ]
  },
  {
   "cell_type": "code",
   "execution_count": 10,
   "id": "cd442e84",
   "metadata": {},
   "outputs": [
    {
     "data": {
      "text/plain": [
       "count    999000.000000\n",
       "mean          4.146761\n",
       "std           1.807754\n",
       "min           0.000000\n",
       "25%           3.000000\n",
       "50%           4.000000\n",
       "75%           5.000000\n",
       "max          13.000000\n",
       "Name: distance, dtype: float64"
      ]
     },
     "execution_count": 10,
     "metadata": {},
     "output_type": "execute_result"
    }
   ],
   "source": [
    "ranks.distance.describe()"
   ]
  },
  {
   "cell_type": "markdown",
   "id": "99bf1ca3",
   "metadata": {},
   "source": [
    "### item-item similarity based rec sys"
   ]
  },
  {
   "cell_type": "code",
   "execution_count": 11,
   "id": "ee302a1b",
   "metadata": {},
   "outputs": [
    {
     "data": {
      "text/html": [
       "<div>\n",
       "<style scoped>\n",
       "    .dataframe tbody tr th:only-of-type {\n",
       "        vertical-align: middle;\n",
       "    }\n",
       "\n",
       "    .dataframe tbody tr th {\n",
       "        vertical-align: top;\n",
       "    }\n",
       "\n",
       "    .dataframe thead th {\n",
       "        text-align: right;\n",
       "    }\n",
       "</style>\n",
       "<table border=\"1\" class=\"dataframe\">\n",
       "  <thead>\n",
       "    <tr style=\"text-align: right;\">\n",
       "      <th></th>\n",
       "      <th>query</th>\n",
       "      <th>candidate</th>\n",
       "      <th>distance</th>\n",
       "      <th>query_tittle</th>\n",
       "      <th>candidate_tittle</th>\n",
       "    </tr>\n",
       "  </thead>\n",
       "  <tbody>\n",
       "    <tr>\n",
       "      <th>539460</th>\n",
       "      <td>1</td>\n",
       "      <td>2294</td>\n",
       "      <td>0</td>\n",
       "      <td>Toy Story (1995)</td>\n",
       "      <td>Antz (1998)</td>\n",
       "    </tr>\n",
       "    <tr>\n",
       "      <th>665334</th>\n",
       "      <td>1</td>\n",
       "      <td>3114</td>\n",
       "      <td>0</td>\n",
       "      <td>Toy Story (1995)</td>\n",
       "      <td>Toy Story 2 (1999)</td>\n",
       "    </tr>\n",
       "    <tr>\n",
       "      <th>792207</th>\n",
       "      <td>1</td>\n",
       "      <td>4886</td>\n",
       "      <td>0</td>\n",
       "      <td>Toy Story (1995)</td>\n",
       "      <td>Monsters, Inc. (2001)</td>\n",
       "    </tr>\n",
       "    <tr>\n",
       "      <th>187812</th>\n",
       "      <td>1</td>\n",
       "      <td>673</td>\n",
       "      <td>1</td>\n",
       "      <td>Toy Story (1995)</td>\n",
       "      <td>Space Jam (1996)</td>\n",
       "    </tr>\n",
       "    <tr>\n",
       "      <th>549450</th>\n",
       "      <td>1</td>\n",
       "      <td>2355</td>\n",
       "      <td>1</td>\n",
       "      <td>Toy Story (1995)</td>\n",
       "      <td>Bug's Life, A (1998)</td>\n",
       "    </tr>\n",
       "  </tbody>\n",
       "</table>\n",
       "</div>"
      ],
      "text/plain": [
       "        query  candidate  distance      query_tittle       candidate_tittle\n",
       "539460      1       2294         0  Toy Story (1995)            Antz (1998)\n",
       "665334      1       3114         0  Toy Story (1995)     Toy Story 2 (1999)\n",
       "792207      1       4886         0  Toy Story (1995)  Monsters, Inc. (2001)\n",
       "187812      1        673         1  Toy Story (1995)       Space Jam (1996)\n",
       "549450      1       2355         1  Toy Story (1995)   Bug's Life, A (1998)"
      ]
     },
     "execution_count": 11,
     "metadata": {},
     "output_type": "execute_result"
    }
   ],
   "source": [
    "ranks.loc[ranks['query']==1].head()"
   ]
  },
  {
   "cell_type": "markdown",
   "id": "5ceb509f",
   "metadata": {},
   "source": [
    "**ratings data**"
   ]
  },
  {
   "cell_type": "code",
   "execution_count": 12,
   "id": "cd55e477",
   "metadata": {},
   "outputs": [],
   "source": [
    "r = ratings.copy()"
   ]
  },
  {
   "cell_type": "code",
   "execution_count": 13,
   "id": "29316975",
   "metadata": {},
   "outputs": [
    {
     "data": {
      "text/html": [
       "<div>\n",
       "<style scoped>\n",
       "    .dataframe tbody tr th:only-of-type {\n",
       "        vertical-align: middle;\n",
       "    }\n",
       "\n",
       "    .dataframe tbody tr th {\n",
       "        vertical-align: top;\n",
       "    }\n",
       "\n",
       "    .dataframe thead th {\n",
       "        text-align: right;\n",
       "    }\n",
       "</style>\n",
       "<table border=\"1\" class=\"dataframe\">\n",
       "  <thead>\n",
       "    <tr style=\"text-align: right;\">\n",
       "      <th></th>\n",
       "      <th>userId</th>\n",
       "      <th>movieId</th>\n",
       "      <th>rating</th>\n",
       "      <th>timestamp</th>\n",
       "      <th>hour</th>\n",
       "    </tr>\n",
       "  </thead>\n",
       "  <tbody>\n",
       "    <tr>\n",
       "      <th>0</th>\n",
       "      <td>1</td>\n",
       "      <td>16</td>\n",
       "      <td>4.0</td>\n",
       "      <td>1217897793</td>\n",
       "      <td>6</td>\n",
       "    </tr>\n",
       "    <tr>\n",
       "      <th>1</th>\n",
       "      <td>1</td>\n",
       "      <td>24</td>\n",
       "      <td>1.5</td>\n",
       "      <td>1217895807</td>\n",
       "      <td>5</td>\n",
       "    </tr>\n",
       "    <tr>\n",
       "      <th>2</th>\n",
       "      <td>1</td>\n",
       "      <td>32</td>\n",
       "      <td>4.0</td>\n",
       "      <td>1217896246</td>\n",
       "      <td>6</td>\n",
       "    </tr>\n",
       "    <tr>\n",
       "      <th>3</th>\n",
       "      <td>1</td>\n",
       "      <td>47</td>\n",
       "      <td>4.0</td>\n",
       "      <td>1217896556</td>\n",
       "      <td>6</td>\n",
       "    </tr>\n",
       "    <tr>\n",
       "      <th>4</th>\n",
       "      <td>1</td>\n",
       "      <td>50</td>\n",
       "      <td>4.0</td>\n",
       "      <td>1217896523</td>\n",
       "      <td>6</td>\n",
       "    </tr>\n",
       "  </tbody>\n",
       "</table>\n",
       "</div>"
      ],
      "text/plain": [
       "   userId  movieId  rating   timestamp  hour\n",
       "0       1       16     4.0  1217897793     6\n",
       "1       1       24     1.5  1217895807     5\n",
       "2       1       32     4.0  1217896246     6\n",
       "3       1       47     4.0  1217896556     6\n",
       "4       1       50     4.0  1217896523     6"
      ]
     },
     "execution_count": 13,
     "metadata": {},
     "output_type": "execute_result"
    }
   ],
   "source": [
    "r['hour'] = r['timestamp'].apply(lambda x: datetime.fromtimestamp(x).hour)\n",
    "r.head()"
   ]
  },
  {
   "cell_type": "markdown",
   "id": "3eb3074b",
   "metadata": {},
   "source": [
    "**users data**"
   ]
  },
  {
   "cell_type": "code",
   "execution_count": 14,
   "id": "942197bb",
   "metadata": {},
   "outputs": [],
   "source": [
    "users = pd.read_csv('users.csv')"
   ]
  },
  {
   "cell_type": "code",
   "execution_count": 15,
   "id": "a1ac0f4c",
   "metadata": {},
   "outputs": [
    {
     "data": {
      "text/html": [
       "<div>\n",
       "<style scoped>\n",
       "    .dataframe tbody tr th:only-of-type {\n",
       "        vertical-align: middle;\n",
       "    }\n",
       "\n",
       "    .dataframe tbody tr th {\n",
       "        vertical-align: top;\n",
       "    }\n",
       "\n",
       "    .dataframe thead th {\n",
       "        text-align: right;\n",
       "    }\n",
       "</style>\n",
       "<table border=\"1\" class=\"dataframe\">\n",
       "  <thead>\n",
       "    <tr style=\"text-align: right;\">\n",
       "      <th></th>\n",
       "      <th>userId</th>\n",
       "      <th>age</th>\n",
       "      <th>time_spent_per_day</th>\n",
       "    </tr>\n",
       "  </thead>\n",
       "  <tbody>\n",
       "    <tr>\n",
       "      <th>0</th>\n",
       "      <td>1</td>\n",
       "      <td>16</td>\n",
       "      <td>3.976315</td>\n",
       "    </tr>\n",
       "    <tr>\n",
       "      <th>1</th>\n",
       "      <td>2</td>\n",
       "      <td>24</td>\n",
       "      <td>1.891303</td>\n",
       "    </tr>\n",
       "    <tr>\n",
       "      <th>2</th>\n",
       "      <td>3</td>\n",
       "      <td>20</td>\n",
       "      <td>4.521478</td>\n",
       "    </tr>\n",
       "    <tr>\n",
       "      <th>3</th>\n",
       "      <td>4</td>\n",
       "      <td>23</td>\n",
       "      <td>2.095284</td>\n",
       "    </tr>\n",
       "    <tr>\n",
       "      <th>4</th>\n",
       "      <td>5</td>\n",
       "      <td>35</td>\n",
       "      <td>1.759860</td>\n",
       "    </tr>\n",
       "  </tbody>\n",
       "</table>\n",
       "</div>"
      ],
      "text/plain": [
       "   userId  age  time_spent_per_day\n",
       "0       1   16            3.976315\n",
       "1       2   24            1.891303\n",
       "2       3   20            4.521478\n",
       "3       4   23            2.095284\n",
       "4       5   35            1.759860"
      ]
     },
     "execution_count": 15,
     "metadata": {},
     "output_type": "execute_result"
    }
   ],
   "source": [
    "users.head()"
   ]
  },
  {
   "cell_type": "code",
   "execution_count": 16,
   "id": "00c5aa2e",
   "metadata": {},
   "outputs": [],
   "source": [
    "users = users.merge(r.groupby('userId').rating.mean().reset_index(), on='userId')\n",
    "users = users.merge(r.groupby('userId').hour.mean().reset_index(), on='userId')"
   ]
  },
  {
   "cell_type": "code",
   "execution_count": 17,
   "id": "1b04cd99",
   "metadata": {},
   "outputs": [
    {
     "data": {
      "text/html": [
       "<div>\n",
       "<style scoped>\n",
       "    .dataframe tbody tr th:only-of-type {\n",
       "        vertical-align: middle;\n",
       "    }\n",
       "\n",
       "    .dataframe tbody tr th {\n",
       "        vertical-align: top;\n",
       "    }\n",
       "\n",
       "    .dataframe thead th {\n",
       "        text-align: right;\n",
       "    }\n",
       "</style>\n",
       "<table border=\"1\" class=\"dataframe\">\n",
       "  <thead>\n",
       "    <tr style=\"text-align: right;\">\n",
       "      <th></th>\n",
       "      <th>userId</th>\n",
       "      <th>age</th>\n",
       "      <th>time_spent_per_day</th>\n",
       "      <th>rating</th>\n",
       "      <th>hour</th>\n",
       "    </tr>\n",
       "  </thead>\n",
       "  <tbody>\n",
       "    <tr>\n",
       "      <th>0</th>\n",
       "      <td>1</td>\n",
       "      <td>16</td>\n",
       "      <td>3.976315</td>\n",
       "      <td>3.691589</td>\n",
       "      <td>5.616822</td>\n",
       "    </tr>\n",
       "    <tr>\n",
       "      <th>1</th>\n",
       "      <td>2</td>\n",
       "      <td>24</td>\n",
       "      <td>1.891303</td>\n",
       "      <td>3.923077</td>\n",
       "      <td>21.000000</td>\n",
       "    </tr>\n",
       "    <tr>\n",
       "      <th>2</th>\n",
       "      <td>3</td>\n",
       "      <td>20</td>\n",
       "      <td>4.521478</td>\n",
       "      <td>3.806452</td>\n",
       "      <td>14.370968</td>\n",
       "    </tr>\n",
       "    <tr>\n",
       "      <th>3</th>\n",
       "      <td>4</td>\n",
       "      <td>23</td>\n",
       "      <td>2.095284</td>\n",
       "      <td>4.159420</td>\n",
       "      <td>8.000000</td>\n",
       "    </tr>\n",
       "    <tr>\n",
       "      <th>4</th>\n",
       "      <td>5</td>\n",
       "      <td>35</td>\n",
       "      <td>1.759860</td>\n",
       "      <td>2.864865</td>\n",
       "      <td>0.513514</td>\n",
       "    </tr>\n",
       "  </tbody>\n",
       "</table>\n",
       "</div>"
      ],
      "text/plain": [
       "   userId  age  time_spent_per_day    rating       hour\n",
       "0       1   16            3.976315  3.691589   5.616822\n",
       "1       2   24            1.891303  3.923077  21.000000\n",
       "2       3   20            4.521478  3.806452  14.370968\n",
       "3       4   23            2.095284  4.159420   8.000000\n",
       "4       5   35            1.759860  2.864865   0.513514"
      ]
     },
     "execution_count": 17,
     "metadata": {},
     "output_type": "execute_result"
    }
   ],
   "source": [
    "users.head()"
   ]
  },
  {
   "cell_type": "code",
   "execution_count": 18,
   "id": "79a24013",
   "metadata": {},
   "outputs": [],
   "source": [
    "u = users.copy()\n",
    "u = u.set_index('userId')\n",
    "u.columns = ['age', 'time_spent_per_day', 'u_avg_rating', 'hour']"
   ]
  },
  {
   "cell_type": "code",
   "execution_count": 19,
   "id": "088f4196",
   "metadata": {},
   "outputs": [
    {
     "data": {
      "text/plain": [
       "Index(['age', 'time_spent_per_day', 'u_avg_rating', 'hour'], dtype='object')"
      ]
     },
     "execution_count": 19,
     "metadata": {},
     "output_type": "execute_result"
    }
   ],
   "source": [
    "u.columns"
   ]
  },
  {
   "cell_type": "code",
   "execution_count": 20,
   "id": "2357771d",
   "metadata": {},
   "outputs": [],
   "source": [
    "from sklearn.preprocessing import StandardScaler\n",
    "\n",
    "scaler = StandardScaler()\n",
    "u = pd.DataFrame(scaler.fit_transform(u), columns=u.columns, index=u.index)"
   ]
  },
  {
   "cell_type": "code",
   "execution_count": 21,
   "id": "1d897726",
   "metadata": {},
   "outputs": [
    {
     "data": {
      "text/html": [
       "<div>\n",
       "<style scoped>\n",
       "    .dataframe tbody tr th:only-of-type {\n",
       "        vertical-align: middle;\n",
       "    }\n",
       "\n",
       "    .dataframe tbody tr th {\n",
       "        vertical-align: top;\n",
       "    }\n",
       "\n",
       "    .dataframe thead th {\n",
       "        text-align: right;\n",
       "    }\n",
       "</style>\n",
       "<table border=\"1\" class=\"dataframe\">\n",
       "  <thead>\n",
       "    <tr style=\"text-align: right;\">\n",
       "      <th></th>\n",
       "      <th>age</th>\n",
       "      <th>time_spent_per_day</th>\n",
       "      <th>u_avg_rating</th>\n",
       "      <th>hour</th>\n",
       "    </tr>\n",
       "    <tr>\n",
       "      <th>userId</th>\n",
       "      <th></th>\n",
       "      <th></th>\n",
       "      <th></th>\n",
       "      <th></th>\n",
       "    </tr>\n",
       "  </thead>\n",
       "  <tbody>\n",
       "    <tr>\n",
       "      <th>1</th>\n",
       "      <td>-1.470292</td>\n",
       "      <td>0.341073</td>\n",
       "      <td>-0.073572</td>\n",
       "      <td>-0.882006</td>\n",
       "    </tr>\n",
       "    <tr>\n",
       "      <th>2</th>\n",
       "      <td>-0.135616</td>\n",
       "      <td>-1.079947</td>\n",
       "      <td>0.426461</td>\n",
       "      <td>1.477906</td>\n",
       "    </tr>\n",
       "    <tr>\n",
       "      <th>3</th>\n",
       "      <td>-0.802954</td>\n",
       "      <td>0.712624</td>\n",
       "      <td>0.174541</td>\n",
       "      <td>0.460955</td>\n",
       "    </tr>\n",
       "    <tr>\n",
       "      <th>4</th>\n",
       "      <td>-0.302450</td>\n",
       "      <td>-0.940926</td>\n",
       "      <td>0.936982</td>\n",
       "      <td>-0.516406</td>\n",
       "    </tr>\n",
       "    <tr>\n",
       "      <th>5</th>\n",
       "      <td>1.699565</td>\n",
       "      <td>-1.169532</td>\n",
       "      <td>-1.859363</td>\n",
       "      <td>-1.664898</td>\n",
       "    </tr>\n",
       "  </tbody>\n",
       "</table>\n",
       "</div>"
      ],
      "text/plain": [
       "             age  time_spent_per_day  u_avg_rating      hour\n",
       "userId                                                      \n",
       "1      -1.470292            0.341073     -0.073572 -0.882006\n",
       "2      -0.135616           -1.079947      0.426461  1.477906\n",
       "3      -0.802954            0.712624      0.174541  0.460955\n",
       "4      -0.302450           -0.940926      0.936982 -0.516406\n",
       "5       1.699565           -1.169532     -1.859363 -1.664898"
      ]
     },
     "execution_count": 21,
     "metadata": {},
     "output_type": "execute_result"
    }
   ],
   "source": [
    "u.head()"
   ]
  },
  {
   "cell_type": "code",
   "execution_count": 22,
   "id": "b86e8548",
   "metadata": {},
   "outputs": [],
   "source": [
    "def euclidean_dist(x, y):\n",
    "    return np.linalg.norm(x-y)"
   ]
  },
  {
   "cell_type": "markdown",
   "id": "bc0c3aa4",
   "metadata": {},
   "source": [
    "### Make recommendation for any user"
   ]
  },
  {
   "cell_type": "code",
   "execution_count": 23,
   "id": "9bd5144b",
   "metadata": {},
   "outputs": [],
   "source": [
    "userid = 5"
   ]
  },
  {
   "cell_type": "code",
   "execution_count": 26,
   "id": "f2226495",
   "metadata": {},
   "outputs": [
    {
     "data": {
      "text/html": [
       "<div>\n",
       "<style scoped>\n",
       "    .dataframe tbody tr th:only-of-type {\n",
       "        vertical-align: middle;\n",
       "    }\n",
       "\n",
       "    .dataframe tbody tr th {\n",
       "        vertical-align: top;\n",
       "    }\n",
       "\n",
       "    .dataframe thead th {\n",
       "        text-align: right;\n",
       "    }\n",
       "</style>\n",
       "<table border=\"1\" class=\"dataframe\">\n",
       "  <thead>\n",
       "    <tr style=\"text-align: right;\">\n",
       "      <th></th>\n",
       "      <th>id</th>\n",
       "      <th>dist</th>\n",
       "    </tr>\n",
       "  </thead>\n",
       "  <tbody>\n",
       "    <tr>\n",
       "      <th>213</th>\n",
       "      <td>214</td>\n",
       "      <td>1.400996</td>\n",
       "    </tr>\n",
       "    <tr>\n",
       "      <th>124</th>\n",
       "      <td>125</td>\n",
       "      <td>1.559669</td>\n",
       "    </tr>\n",
       "    <tr>\n",
       "      <th>301</th>\n",
       "      <td>302</td>\n",
       "      <td>1.641682</td>\n",
       "    </tr>\n",
       "    <tr>\n",
       "      <th>409</th>\n",
       "      <td>410</td>\n",
       "      <td>1.657114</td>\n",
       "    </tr>\n",
       "    <tr>\n",
       "      <th>25</th>\n",
       "      <td>26</td>\n",
       "      <td>1.676895</td>\n",
       "    </tr>\n",
       "  </tbody>\n",
       "</table>\n",
       "</div>"
      ],
      "text/plain": [
       "      id      dist\n",
       "213  214  1.400996\n",
       "124  125  1.559669\n",
       "301  302  1.641682\n",
       "409  410  1.657114\n",
       "25    26  1.676895"
      ]
     },
     "execution_count": 26,
     "metadata": {},
     "output_type": "execute_result"
    }
   ],
   "source": [
    "dist = []\n",
    "for user in u.index:\n",
    "    dist.append(euclidean_dist(u.loc[userid], u.loc[user]))\n",
    "\n",
    "u_rank = pd.DataFrame()\n",
    "u_rank['id'] = u.index\n",
    "u_rank['dist'] = dist\n",
    "u_rank = u_rank.loc[u_rank.id != userid]\n",
    "u_rank = u_rank.sort_values(by='dist')\n",
    "u_rank.head()"
   ]
  },
  {
   "cell_type": "markdown",
   "id": "3b4a6102",
   "metadata": {},
   "source": [
    "### user-user sim based rec-sys"
   ]
  },
  {
   "cell_type": "code",
   "execution_count": 27,
   "id": "636cdd5c",
   "metadata": {},
   "outputs": [
    {
     "data": {
      "text/html": [
       "<div>\n",
       "<style scoped>\n",
       "    .dataframe tbody tr th:only-of-type {\n",
       "        vertical-align: middle;\n",
       "    }\n",
       "\n",
       "    .dataframe tbody tr th {\n",
       "        vertical-align: top;\n",
       "    }\n",
       "\n",
       "    .dataframe thead th {\n",
       "        text-align: right;\n",
       "    }\n",
       "</style>\n",
       "<table border=\"1\" class=\"dataframe\">\n",
       "  <thead>\n",
       "    <tr style=\"text-align: right;\">\n",
       "      <th></th>\n",
       "      <th>userId</th>\n",
       "      <th>movieId</th>\n",
       "      <th>rating</th>\n",
       "      <th>timestamp</th>\n",
       "    </tr>\n",
       "  </thead>\n",
       "  <tbody>\n",
       "    <tr>\n",
       "      <th>29659</th>\n",
       "      <td>214</td>\n",
       "      <td>1242</td>\n",
       "      <td>5.0</td>\n",
       "      <td>1059599552</td>\n",
       "    </tr>\n",
       "    <tr>\n",
       "      <th>29668</th>\n",
       "      <td>214</td>\n",
       "      <td>2804</td>\n",
       "      <td>5.0</td>\n",
       "      <td>1059599624</td>\n",
       "    </tr>\n",
       "    <tr>\n",
       "      <th>29660</th>\n",
       "      <td>214</td>\n",
       "      <td>1302</td>\n",
       "      <td>4.0</td>\n",
       "      <td>1059599706</td>\n",
       "    </tr>\n",
       "    <tr>\n",
       "      <th>29666</th>\n",
       "      <td>214</td>\n",
       "      <td>2617</td>\n",
       "      <td>4.0</td>\n",
       "      <td>1059599605</td>\n",
       "    </tr>\n",
       "    <tr>\n",
       "      <th>29656</th>\n",
       "      <td>214</td>\n",
       "      <td>543</td>\n",
       "      <td>4.0</td>\n",
       "      <td>1059599577</td>\n",
       "    </tr>\n",
       "    <tr>\n",
       "      <th>29665</th>\n",
       "      <td>214</td>\n",
       "      <td>2423</td>\n",
       "      <td>4.0</td>\n",
       "      <td>1059599960</td>\n",
       "    </tr>\n",
       "    <tr>\n",
       "      <th>29663</th>\n",
       "      <td>214</td>\n",
       "      <td>1777</td>\n",
       "      <td>4.0</td>\n",
       "      <td>1059599948</td>\n",
       "    </tr>\n",
       "    <tr>\n",
       "      <th>29667</th>\n",
       "      <td>214</td>\n",
       "      <td>2770</td>\n",
       "      <td>3.5</td>\n",
       "      <td>1059599695</td>\n",
       "    </tr>\n",
       "    <tr>\n",
       "      <th>29651</th>\n",
       "      <td>214</td>\n",
       "      <td>44</td>\n",
       "      <td>3.5</td>\n",
       "      <td>1059599710</td>\n",
       "    </tr>\n",
       "    <tr>\n",
       "      <th>29661</th>\n",
       "      <td>214</td>\n",
       "      <td>1372</td>\n",
       "      <td>3.0</td>\n",
       "      <td>1059599647</td>\n",
       "    </tr>\n",
       "  </tbody>\n",
       "</table>\n",
       "</div>"
      ],
      "text/plain": [
       "       userId  movieId  rating   timestamp\n",
       "29659     214     1242     5.0  1059599552\n",
       "29668     214     2804     5.0  1059599624\n",
       "29660     214     1302     4.0  1059599706\n",
       "29666     214     2617     4.0  1059599605\n",
       "29656     214      543     4.0  1059599577\n",
       "29665     214     2423     4.0  1059599960\n",
       "29663     214     1777     4.0  1059599948\n",
       "29667     214     2770     3.5  1059599695\n",
       "29651     214       44     3.5  1059599710\n",
       "29661     214     1372     3.0  1059599647"
      ]
     },
     "execution_count": 27,
     "metadata": {},
     "output_type": "execute_result"
    }
   ],
   "source": [
    "ratings.loc[ratings.userId==214].sort_values(by='rating', ascending=False).head(10)"
   ]
  },
  {
   "cell_type": "markdown",
   "id": "0e9bd8da",
   "metadata": {},
   "source": [
    "Other ideas:\n",
    "- take top M movies from closest K neighbours\n",
    "- multiple rating by 1/dist and resort."
   ]
  }
 ],
 "metadata": {
  "kernelspec": {
   "display_name": "Python 3 (ipykernel)",
   "language": "python",
   "name": "python3"
  },
  "language_info": {
   "codemirror_mode": {
    "name": "ipython",
    "version": 3
   },
   "file_extension": ".py",
   "mimetype": "text/x-python",
   "name": "python",
   "nbconvert_exporter": "python",
   "pygments_lexer": "ipython3",
   "version": "3.9.12"
  }
 },
 "nbformat": 4,
 "nbformat_minor": 5
}
